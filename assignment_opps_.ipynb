{
  "nbformat": 4,
  "nbformat_minor": 0,
  "metadata": {
    "colab": {
      "provenance": []
    },
    "kernelspec": {
      "name": "python3",
      "display_name": "Python 3"
    },
    "language_info": {
      "name": "python"
    }
  },
  "cells": [
    {
      "cell_type": "markdown",
      "source": [
        "# **Oops**"
      ],
      "metadata": {
        "id": "EvXbjYwkNH3M"
      }
    },
    {
      "cell_type": "markdown",
      "source": [
        "## **Ques 1 -  What is Object-Oriented Programming (OOP)?**\n",
        "\n",
        "Object-Oriented Programming (OOP) is a programming paradigm (style of coding) based on the concept of objects, which are instances of classes. It helps organize code in a way that models real-world things, making programs easier to understand, modify, and reuse.\n",
        "\n",
        "Benefits :\n",
        "\n",
        "- Code reusability\n",
        "\n",
        "- Easier debugging and maintenance\n",
        "\n",
        "- Better organization and structure\n",
        "\n",
        "- Scalability"
      ],
      "metadata": {
        "id": "dFilbkAdN8Ut"
      }
    },
    {
      "cell_type": "markdown",
      "source": [
        "# **Ques 2-  What is a class in OOP?**\n",
        "\n",
        "A blueprint or template for creating objects.\n",
        "\n",
        "Example: Car class defines properties like color, model, and methods like drive().\n",
        "\n"
      ],
      "metadata": {
        "id": "XqeIvOIyPN24"
      }
    },
    {
      "cell_type": "code",
      "source": [
        "class car:\n",
        "  def __init__(self,color,model):\n",
        "    self.color = color\n",
        "    self.model = model\n",
        "\n",
        "  def drive(self):\n",
        "    print(\"The car is driving\")"
      ],
      "metadata": {
        "id": "i03lsv2YPznI"
      },
      "execution_count": null,
      "outputs": []
    },
    {
      "cell_type": "code",
      "execution_count": null,
      "metadata": {
        "id": "UmQ8HEzHNB3J"
      },
      "outputs": [],
      "source": [
        "c1 = car(\"red\",\"Toyota\")"
      ]
    },
    {
      "cell_type": "code",
      "source": [
        "c1.color"
      ],
      "metadata": {
        "colab": {
          "base_uri": "https://localhost:8080/",
          "height": 35
        },
        "id": "_SjcO8mVQCNc",
        "outputId": "5f94c986-49eb-4fa6-bb08-5a8b73abed00"
      },
      "execution_count": null,
      "outputs": [
        {
          "output_type": "execute_result",
          "data": {
            "text/plain": [
              "'red'"
            ],
            "application/vnd.google.colaboratory.intrinsic+json": {
              "type": "string"
            }
          },
          "metadata": {},
          "execution_count": 4
        }
      ]
    },
    {
      "cell_type": "markdown",
      "source": [
        "# **Ques3 - An object is an instance of a class.?**\n",
        "\n",
        "An object is an instance of a class.\n",
        "When a class is like a blueprint, the object is the real thing built using that blueprint."
      ],
      "metadata": {
        "id": "KkI831PBQQh2"
      }
    },
    {
      "cell_type": "code",
      "source": [
        "class dog:\n",
        "  def __init__(self,name,breed):\n",
        "    self.name = name\n",
        "    self.breed = breed\n",
        "\n",
        "  def bark(self):\n",
        "    print(\"The dog is barking\")"
      ],
      "metadata": {
        "id": "883kudg0Q4lY"
      },
      "execution_count": null,
      "outputs": []
    },
    {
      "cell_type": "code",
      "source": [
        "d1 = dog(\"bruno\",\"Labrador\")"
      ],
      "metadata": {
        "id": "Zt1JhtHISdTI"
      },
      "execution_count": null,
      "outputs": []
    },
    {
      "cell_type": "code",
      "source": [
        "d1.breed  #d1 is object"
      ],
      "metadata": {
        "colab": {
          "base_uri": "https://localhost:8080/",
          "height": 35
        },
        "id": "TeLuN13KTAAl",
        "outputId": "e92ea3a4-cce9-4894-c87f-fb243ced0065"
      },
      "execution_count": null,
      "outputs": [
        {
          "output_type": "execute_result",
          "data": {
            "text/plain": [
              "'Labrador'"
            ],
            "application/vnd.google.colaboratory.intrinsic+json": {
              "type": "string"
            }
          },
          "metadata": {},
          "execution_count": 8
        }
      ]
    },
    {
      "cell_type": "code",
      "source": [
        "d2 = dog(\"max\",\"German Shepherd\")"
      ],
      "metadata": {
        "id": "49tYvkqjTGjU"
      },
      "execution_count": null,
      "outputs": []
    },
    {
      "cell_type": "code",
      "source": [
        "d2.breed #d2 is object"
      ],
      "metadata": {
        "colab": {
          "base_uri": "https://localhost:8080/",
          "height": 35
        },
        "id": "LkKoEv2gTJK-",
        "outputId": "1f05a9af-64de-40cc-bb72-906fa2a70ca3"
      },
      "execution_count": null,
      "outputs": [
        {
          "output_type": "execute_result",
          "data": {
            "text/plain": [
              "'German Shepherd'"
            ],
            "application/vnd.google.colaboratory.intrinsic+json": {
              "type": "string"
            }
          },
          "metadata": {},
          "execution_count": 10
        }
      ]
    },
    {
      "cell_type": "markdown",
      "source": [
        "# **Ques 4- What is the difference between abstraction and Encapsulation ?**\n",
        "\n",
        "Abstraction - Hiding unnecessary details and showing only essential features.\n",
        "\n",
        "Encapsulation- Wrapping data and methods together to protect and manage access"
      ],
      "metadata": {
        "id": "AzcbLicDTUO6"
      }
    },
    {
      "cell_type": "markdown",
      "source": [
        "# **Ques 5 - What are dunder methods in Python?**\n",
        "\n",
        "Dunder methods are special built-in methods in Python that start and end with double underscores, like _ _init_ _, _ _str_ _, _ _len_ _, etc."
      ],
      "metadata": {
        "id": "y2Nqtag-Vp2s"
      }
    },
    {
      "cell_type": "markdown",
      "source": [
        "# **Ques6-  Explain the concept of inheritance in OOP**\n",
        "\n",
        "Inheritance is a concept where one class (child) can use the properties and methods of another class (parent).\n",
        "\n",
        "It helps in reusing code and creating a hierarchy between classes.\n",
        "\n",
        "\n"
      ],
      "metadata": {
        "id": "abCCUB9mWIm8"
      }
    },
    {
      "cell_type": "markdown",
      "source": [
        "# **Ques 7-  What is polymorphism in OOP?**\n",
        "\n",
        "In OOP, it allows different classes to define methods with the same name, but with different behavior.\n",
        "This makes code more flexible and easier to extend."
      ],
      "metadata": {
        "id": "e9L2huQsX3kg"
      }
    },
    {
      "cell_type": "markdown",
      "source": [
        "# **Ques8 -  How is encapsulation achieved in Python?**\n",
        "\n",
        "Encapsulation means hiding data and restricting direct access to it.\n",
        "In Python, it's achieved using:   \n",
        "**1. Private Variables (with double underscore __)**  \n",
        "You make a variable private by adding __ before its name. This hides it from outside access.\n"
      ],
      "metadata": {
        "id": "oWVYux20YyDE"
      }
    },
    {
      "cell_type": "code",
      "source": [
        "class Person:\n",
        "    def __init__(self, name, age):\n",
        "        self.name = name         # public\n",
        "        self.__age = age         # private\n",
        "\n",
        "    def get_age(self):\n",
        "        return self.__age\n",
        "\n",
        "    def set_age(self, age):\n",
        "        if age > 0:\n",
        "            self.__age = age\n",
        "\n",
        "p = Person(\"Moli\", 20)\n",
        "\n",
        "print(p.name)          # works\n",
        "print(p.__age)         # Error: can't access private variable\n",
        "print(p.get_age())     # use getter to access"
      ],
      "metadata": {
        "id": "WisZ1Ih8bHUa"
      },
      "execution_count": null,
      "outputs": []
    },
    {
      "cell_type": "markdown",
      "source": [
        "**2. Getters and Setters**  \n",
        "To access or modify private data safely, we use getter and setter methods."
      ],
      "metadata": {
        "id": "wi-rjoy2bLC3"
      }
    },
    {
      "cell_type": "code",
      "source": [
        "# Already shown above:\n",
        "p.get_age()     # gets value\n",
        "p.set_age(25)   # sets value with a check\n"
      ],
      "metadata": {
        "id": "dPyHrHDxbhS0"
      },
      "execution_count": null,
      "outputs": []
    },
    {
      "cell_type": "markdown",
      "source": [
        "**3. Using Property Decorators (Optional Advanced)**  \n",
        "You can also use @property and @<name>.setter to define getters and setters in a cleaner way."
      ],
      "metadata": {
        "id": "KhR9YKfHbjto"
      }
    },
    {
      "cell_type": "code",
      "source": [
        "class Student:\n",
        "    def __init__(self, marks):\n",
        "        self.__marks = marks\n",
        "\n",
        "    @property\n",
        "    def marks(self):\n",
        "        return self.__marks\n",
        "\n",
        "    @marks.setter\n",
        "    def marks(self, value):\n",
        "        if 0 <= value <= 100:\n",
        "            self.__marks = value\n",
        "\n",
        "s = Student(85)\n",
        "print(s.marks)        #  85\n",
        "s.marks = 95          #  updated safely\n"
      ],
      "metadata": {
        "id": "ah6NAyWmbxhI"
      },
      "execution_count": null,
      "outputs": []
    },
    {
      "cell_type": "markdown",
      "source": [
        "# **Ques9 -  What is a constructor in Python?**\n",
        "\n",
        "A constructor is a special method used to automatically create and initialize objects when a class is called.\n",
        "\n",
        "In Python, the constructor method is always named:   \n",
        "_ _init_ _()\n",
        "It runs as soon as you create an object from a class.\n",
        "\n",
        "\n"
      ],
      "metadata": {
        "id": "X4w4mpoCb4Lr"
      }
    },
    {
      "cell_type": "code",
      "source": [
        "class Student:\n",
        "    def __init__(self, name, age):\n",
        "        self.name = name      # Instance variable\n",
        "        self.age = age\n",
        "\n",
        "# Create object\n",
        "s = Student(\"Moli\", 19)\n",
        "\n",
        "# Access object data\n",
        "print(s.name)   # Output: Moli\n",
        "print(s.age)    # Output: 19\n"
      ],
      "metadata": {
        "id": "OrrAqF6JcxEs"
      },
      "execution_count": null,
      "outputs": []
    },
    {
      "cell_type": "markdown",
      "source": [
        "# **Ques 10- What are class and static methods in Python?**\n",
        "\n",
        "**1. Class Method**  \n",
        "A class method works with the class itself, not the object.\n",
        "It’s defined using the @classmethod decorator.   \n",
        " Key Features:\n",
        "- Takes cls as the first argument (not self)\n",
        "\n",
        "- Can access or modify class variables\n",
        "\n",
        "- Called using the class or object\n",
        "\n",
        "\n",
        "\n",
        "\n",
        "\n"
      ],
      "metadata": {
        "id": "hT6TdTk6c2Fs"
      }
    },
    {
      "cell_type": "markdown",
      "source": [
        "**2. Static Method**  \n",
        "A static method doesn’t take self or cls.\n",
        "It behaves like a regular function but is placed inside a class for logical grouping.\n",
        "\n",
        "Key Features:\n",
        "- No access to object (self) or class (cls)\n",
        "\n",
        "- Use @staticmethod decorator\n",
        "\n",
        "- Called using class or object"
      ],
      "metadata": {
        "id": "WAilIFXXeH0l"
      }
    },
    {
      "cell_type": "markdown",
      "source": [
        "# **Ques11-  What is method overloading in Python?**\n",
        "\n",
        "Method Overloading means having multiple methods with the same name but different numbers or types of parameters.\n",
        "\n",
        " It helps us perform different tasks using the same method name, based on how many or what kind of arguments are passed.\n",
        "\n"
      ],
      "metadata": {
        "id": "5wITl-5FeUI_"
      }
    },
    {
      "cell_type": "markdown",
      "source": [
        "# **Ques12-  What is method overriding in OOP?**\n",
        "\n",
        "Method Overriding happens when a child class defines a method with the same name as one in its parent class, but gives it a different behavior.\n",
        "\n",
        "It allows the child class to change or extend how a method works without changing the parent class."
      ],
      "metadata": {
        "id": "F-amCNxge2p0"
      }
    },
    {
      "cell_type": "code",
      "source": [
        "class Animal:\n",
        "  def speak(self):\n",
        "    print(\"The animal is speaking\")\n",
        "\n",
        "class Dog(Animal):\n",
        "  def speak(self):\n",
        "    print(\"The dog is barking\")\n"
      ],
      "metadata": {
        "id": "3p7HSRHad557"
      },
      "execution_count": null,
      "outputs": []
    },
    {
      "cell_type": "code",
      "source": [
        "d1 = Animal()\n",
        "d1.speak()"
      ],
      "metadata": {
        "colab": {
          "base_uri": "https://localhost:8080/"
        },
        "id": "LGtMwTokg7Z5",
        "outputId": "4555fd89-95c0-4c39-c5ef-ea7b607a55b1"
      },
      "execution_count": null,
      "outputs": [
        {
          "output_type": "stream",
          "name": "stdout",
          "text": [
            "The animal is speaking\n"
          ]
        }
      ]
    },
    {
      "cell_type": "code",
      "source": [
        "d1 = Dog()\n",
        "d1.speak()"
      ],
      "metadata": {
        "colab": {
          "base_uri": "https://localhost:8080/"
        },
        "id": "zCUlKv-thkZT",
        "outputId": "8184a0e5-a273-4a0c-dd4f-b79a7cf5eb4c"
      },
      "execution_count": null,
      "outputs": [
        {
          "output_type": "stream",
          "name": "stdout",
          "text": [
            "The dog is barking\n"
          ]
        }
      ]
    },
    {
      "cell_type": "markdown",
      "source": [
        "# **Ques 13-  What is a property decorator in Python?**\n",
        "\n",
        "The @property decorator in Python is used to turn a method into a property, so you can access it like a variable — but it's still working like a function in the background.\n",
        "\n"
      ],
      "metadata": {
        "id": "T6Xpp2s1hvgd"
      }
    },
    {
      "cell_type": "code",
      "source": [
        "class Circle:\n",
        "    def __init__(self, radius):\n",
        "        self._radius = radius\n",
        "\n",
        "    @property\n",
        "    def radius(self):\n",
        "        return self._radius\n",
        "\n",
        "    @radius.setter\n",
        "    def radius(self, value):\n",
        "        if value >= 0:\n",
        "            self._radius = value\n",
        "        else:\n",
        "            print(\"Radius can't be negative!\")\n",
        "\n",
        "    @property\n",
        "    def area(self):\n",
        "        return 3.14 * self._radius * self._radius\n",
        "\n",
        "# Usage\n",
        "c = Circle(5)\n",
        "print(c.radius)     # Access like a variable: 5\n",
        "print(c.area)       # Computed on the fly: 78.5\n",
        "\n",
        "c.radius = 10       # Updates radius\n",
        "print(c.area)       # New area: 314.0\n",
        "\n",
        "c.radius = -5       # Invalid: shows error message\n"
      ],
      "metadata": {
        "id": "kQ7ZrjC8ht9l"
      },
      "execution_count": null,
      "outputs": []
    },
    {
      "cell_type": "markdown",
      "source": [
        "# **Ques 14-  Why is polymorphism important in OOP?**\n",
        "\n",
        "Polymorphism (many forms) is one of the core pillars of OOP, and it's important because it makes your code more:\n",
        "\n",
        "**1. Flexible**\n",
        "You can write code that works with different types of objects without changing it.\n",
        "\n",
        "Example: A speak() method can work with a Dog, Cat, or Bird — each behaves differently, but you call them all the same way.\n",
        "\n",
        "**2. Reusable**\n",
        "You don’t need to rewrite logic. One function can be reused for different objects.\n",
        "\n",
        "**3. Maintainable**\n",
        "It’s easier to add new features or types without changing existing code.\n",
        "\n",
        "If you add a Lion class that also has speak(), your existing code using make_sound() still works.\n",
        "No edits needed.\n",
        "\n",
        "**4. Supports Clean Design**\n",
        "Polymorphism allows you to:\n",
        "\n",
        "- Keep code short and readable\n",
        "\n",
        "- Avoid repetition\n",
        "\n"
      ],
      "metadata": {
        "id": "s2iiccXhlZ9N"
      }
    },
    {
      "cell_type": "code",
      "source": [
        "class Animal:\n",
        "    def speak(self):\n",
        "        print(\"Animal sound\")\n",
        "\n",
        "class Dog(Animal):\n",
        "    def speak(self):\n",
        "        print(\"Bark\")\n",
        "\n",
        "class Cat(Animal):\n",
        "    def speak(self):\n",
        "        print(\"Meow\")\n",
        "\n",
        "def make_sound(animal):\n",
        "    animal.speak()\n",
        "\n",
        "# Same function works for all types\n",
        "make_sound(Dog())   # Bark\n",
        "make_sound(Cat())   # Meow\n"
      ],
      "metadata": {
        "colab": {
          "base_uri": "https://localhost:8080/"
        },
        "id": "d_bkHKxgmtC2",
        "outputId": "ff286a10-d73d-491b-ed6b-045faa124e31"
      },
      "execution_count": null,
      "outputs": [
        {
          "output_type": "stream",
          "name": "stdout",
          "text": [
            "Bark\n",
            "Meow\n"
          ]
        }
      ]
    },
    {
      "cell_type": "markdown",
      "source": [
        "# **Ques 15 -What is an abstract class in Python?**\n",
        "\n",
        "An abstract class is a class that cannot be directly instantiated — it’s meant to be inherited by other classes.\n",
        "\n",
        "It defines a common structure for child classes but may leave some methods unimplemented (abstract).\n",
        "These must be implemented by any class that inherits from it.\n",
        "\n"
      ],
      "metadata": {
        "id": "m_sDU_SVmuLX"
      }
    },
    {
      "cell_type": "markdown",
      "source": [
        "# **Ques16-What are the advantages of OOP?**\n",
        "\n",
        "Object-Oriented Programming (OOP) offers several advantages that enhance software development and maintenance. Here are some key benefits:\n",
        "\n",
        "1. **Encapsulation**: OOP allows for bundling data and methods that operate on that data within a single unit, or class. This encapsulation helps protect the internal state of an object from unintended interference and misuse, promoting data integrity.\n",
        "\n",
        "2. **Abstraction**: OOP enables developers to create abstract models of real-world entities. By focusing on essential characteristics while hiding unnecessary details, abstraction simplifies complex systems and enhances code readability.\n",
        "\n",
        "3. **Inheritance**: OOP supports inheritance, allowing new classes to inherit properties and behaviors from existing classes. This promotes code reusability and reduces redundancy, as common functionality can be defined in a base class and reused in derived classes.\n",
        "\n",
        "4. **Polymorphism**: OOP allows for polymorphism, where a single interface can represent different underlying forms (data types). This enables methods to be used interchangeably, enhancing flexibility and the ability to extend systems without modifying existing code.\n",
        "\n",
        "5. **Modularity**: OOP encourages modular design, where software is divided into smaller, manageable pieces (classes and objects). This modularity makes it easier to develop, test, and maintain code, as changes in one module can often be made independently of others.\n",
        "\n",
        "6. **Improved Maintainability**: The principles of OOP lead to cleaner and more organized code, making it easier to maintain and update. Changes can be made with minimal impact on other parts of the system.\n",
        "\n",
        "7. **Enhanced Collaboration**: OOP facilitates teamwork by allowing multiple developers to work on different classes or modules simultaneously. This separation of concerns can lead to more efficient development processes.\n",
        "\n",
        "8. **Real-World Modeling**: OOP aligns closely with real-world concepts, making it easier for developers to model complex systems and understand the relationships between different entities.\n",
        "\n",
        "9. **Dynamic Binding**: OOP supports dynamic binding, which allows method calls to be resolved at runtime. This feature enhances flexibility and enables the implementation of more complex behaviors.\n",
        "."
      ],
      "metadata": {
        "id": "ksnmp2-Asvua"
      }
    },
    {
      "cell_type": "markdown",
      "source": [
        "# **Ques17- What is the difference between a class variable and an instance variable?**\n",
        "\n",
        "Class variable belongs to class itself while the instance variable bellongs to the the object class."
      ],
      "metadata": {
        "id": "cZIwvl35tXEt"
      }
    },
    {
      "cell_type": "code",
      "source": [
        "class Student:\n",
        "    school_name = \"ABC School\"  # Class variable\n",
        "\n",
        "    def __init__(self, name, marks):\n",
        "        self.name = name        # Instance variable\n",
        "        self.marks = marks      # Instance variable\n",
        "\n",
        "s1 = Student(\"moli\",90)\n",
        "s2 = Student(\"max\",80)\n",
        "print(s1.name)\n",
        "print(s2.marks)\n",
        "print(s1.school_name)\n"
      ],
      "metadata": {
        "colab": {
          "base_uri": "https://localhost:8080/"
        },
        "id": "tDzuYV4C4i6B",
        "outputId": "a4a76c38-c59e-47f3-a9e5-434a20bb0538"
      },
      "execution_count": null,
      "outputs": [
        {
          "output_type": "stream",
          "name": "stdout",
          "text": [
            "moli\n",
            "80\n",
            "ABC School\n"
          ]
        }
      ]
    },
    {
      "cell_type": "code",
      "source": [
        "Student.school_name = \"XYZ School\""
      ],
      "metadata": {
        "id": "MRPhyXT1qjxh"
      },
      "execution_count": null,
      "outputs": []
    },
    {
      "cell_type": "code",
      "source": [
        "s1.school_name"
      ],
      "metadata": {
        "colab": {
          "base_uri": "https://localhost:8080/",
          "height": 35
        },
        "id": "QMqD_1Lm5Jpm",
        "outputId": "534afdee-03dc-4837-8f7c-e9e2a0016234"
      },
      "execution_count": null,
      "outputs": [
        {
          "output_type": "execute_result",
          "data": {
            "text/plain": [
              "'XYZ School'"
            ],
            "application/vnd.google.colaboratory.intrinsic+json": {
              "type": "string"
            }
          },
          "metadata": {},
          "execution_count": 27
        }
      ]
    },
    {
      "cell_type": "markdown",
      "source": [
        "## **Ques 18-What is multiple inheritance in Python?**\n",
        "\n",
        "Multiple Inheritance means a class can inherit from more than one parent class.\n",
        "\n",
        "The child class gets the features (attributes and methods) of all parent classes.\n",
        "\n"
      ],
      "metadata": {
        "id": "AHlvHYtl5P_R"
      }
    },
    {
      "cell_type": "code",
      "source": [
        "class Parent1:\n",
        "    def show1(self):\n",
        "        print(\"From Parent 1\")\n",
        "\n",
        "class Parent2:\n",
        "    def show2(self):\n",
        "        print(\"From Parent 2\")\n",
        "\n",
        "# Child inherits from both\n",
        "class Child(Parent1, Parent2):\n",
        "    def show3(self):\n",
        "        print(\"From Child\")\n",
        "\n",
        "c = Child()\n",
        "c.show1()   # Inherited from Parent1\n",
        "c.show2()   # Inherited from Parent2\n",
        "c.show3()   # Defined in Child\n"
      ],
      "metadata": {
        "colab": {
          "base_uri": "https://localhost:8080/"
        },
        "id": "KH_Z9IdZ5eXs",
        "outputId": "a87468df-8f98-42d7-a8a1-ed512013a3ca"
      },
      "execution_count": null,
      "outputs": [
        {
          "output_type": "stream",
          "name": "stdout",
          "text": [
            "From Parent 1\n",
            "From Parent 2\n",
            "From Child\n"
          ]
        }
      ]
    },
    {
      "cell_type": "markdown",
      "source": [
        "# **Ques19- Explain the purpose of ‘’__str__’ and ‘__repr__’ ‘ methods in Python?**\n",
        "\n",
        "Both __str__ and __repr__ are special methods used to define how your objects are represented as strings, but they are used for different purposes.\n",
        "\n",
        "**_ _str_ _:**   \n",
        "Used to define the \"user-friendly\" or readable string version of an object.\n",
        "\n",
        "Called by the built-in str() function or when you use print(obj)\n",
        "\n",
        "Goal: Show informative and clear output for users.\n",
        "\n",
        "\n"
      ],
      "metadata": {
        "id": "xOdMsk2t7tAQ"
      }
    },
    {
      "cell_type": "code",
      "source": [
        "class Person:\n",
        "    def __init__(self, name):\n",
        "        self.name = name\n",
        "\n",
        "    def __str__(self):\n",
        "        return f\"Person named {self.name}\"\n",
        "\n",
        "p = Person(\"Maulshree\")\n",
        "print(p)  # Output: Person named Maulshree\n"
      ],
      "metadata": {
        "id": "-asc9GXeyNED"
      },
      "execution_count": null,
      "outputs": []
    },
    {
      "cell_type": "markdown",
      "source": [
        "**__repr__:**   \n",
        "Used to define the \"official\" or developer-friendly string representation of an object.\n",
        "\n",
        "Called by repr(obj) or when you type the object in a console.\n",
        "\n",
        "Goal: Show unambiguous info, often used for debugging."
      ],
      "metadata": {
        "id": "hQIwxNKjyOq5"
      }
    },
    {
      "cell_type": "code",
      "source": [
        "class Person:\n",
        "    def __init__(self, name):\n",
        "        self.name = name\n",
        "\n",
        "    def __repr__(self):\n",
        "        return f\"Person('{self.name}')\"\n",
        "\n",
        "p = Person(\"Maulshree\")\n",
        "print(repr(p))  # Output: Person('Maulshree')\n"
      ],
      "metadata": {
        "id": "K9b12sDeyjkB"
      },
      "execution_count": null,
      "outputs": []
    },
    {
      "cell_type": "markdown",
      "source": [
        "# **Ques20- What is the significance of the ‘super()’ function in Python?**\n",
        "\n",
        "The super() function in Python is used to call a method from the parent (or superclass) in a child (or subclass) — mainly in inheritance.\n",
        "\n",
        " **super() important because:**\n",
        "- To reuse the code in the parent class.\n",
        "\n",
        "- To avoid repeating the same logic.\n",
        "\n",
        "- Helps in method overriding when you want to add extra behavior to a parent method, not completely replace it.\n",
        "\n"
      ],
      "metadata": {
        "id": "DGcH6JvVH8Uu"
      }
    },
    {
      "cell_type": "markdown",
      "source": [
        "# **Ques 21-  What is the significance of the _ _del_ _ method in Python?**\n",
        "\n",
        "\n",
        "The __del__ method in Python is a destructor method, which is called automatically when an object is about to be destroyed (i.e., when it is garbage collected).    \n",
        "Significance of __del__:  \n",
        "-  **Resource Cleanup:**\n",
        "It allows you to clean up resources like closing files, releasing network connections, or disconnecting from databases when the object is no longer in use.\n",
        "\n",
        "- **Custom Finalization:**   \n",
        "You can define custom behavior that should happen when the object is being deleted.\n",
        "\n"
      ],
      "metadata": {
        "id": "RUGghsGkJA9V"
      }
    },
    {
      "cell_type": "markdown",
      "source": [
        "# **Ques22-  What is the difference between @staticmethod and @classmethod in Python?**\n",
        "\n",
        "**A static method:**\n",
        "\n",
        "Belongs to the class, but does not receive any reference to the class (cls) or instance (self).\n",
        "\n",
        "Acts just like a regular function, but lives inside the class for organizational purposes.\n",
        "\n",
        "**A class method:**\n",
        "\n",
        "Takes cls as its first argument, referring to the class itself, not the instance.\n",
        "\n",
        "Can access and modify class-level data."
      ],
      "metadata": {
        "id": "R6bPiWowsN3t"
      }
    },
    {
      "cell_type": "markdown",
      "source": [
        "# **Ques23-  How does polymorphism work in Python with inheritance?**\n",
        "\n",
        "**Polymorphism** means “many forms”. In Python, it allows:\n",
        "\n",
        "The same method name to behave differently based on the object that calls it.    \n",
        "**Polymorphism with Inheritance:**   \n",
        "When a base class defines a method, and subclasses override that method with their own version, Python will automatically call the appropriate method based on the object’s class — not just the method name.\n",
        "\n",
        "\n",
        "\n"
      ],
      "metadata": {
        "id": "3z-PtUq4ttJV"
      }
    },
    {
      "cell_type": "code",
      "source": [
        "class Animal:\n",
        "    def speak(self):\n",
        "        print(\"Animal speaks\")\n",
        "\n",
        "class Dog(Animal):\n",
        "    def speak(self):\n",
        "        print(\"Dog barks\")\n",
        "\n",
        "class Cat(Animal):\n",
        "    def speak(self):\n",
        "        print(\"Cat meows\")\n",
        "\n",
        "# Polymorphism in action\n",
        "def make_sound(animal):\n",
        "    animal.speak()\n",
        "\n",
        "a = Animal()\n",
        "d = Dog()\n",
        "c = Cat()\n",
        "\n",
        "make_sound(a)  # Output: Animal speaks\n",
        "make_sound(d)  # Output: Dog barks\n",
        "make_sound(c)  # Output: Cat meows"
      ],
      "metadata": {
        "id": "TjXRpHbHuaxN"
      },
      "execution_count": null,
      "outputs": []
    },
    {
      "cell_type": "markdown",
      "source": [
        "# **Ques24- What is method chaining in Python OOP?**\n",
        "\n",
        "Method chaining is a technique where multiple methods are called on the same object in a single line, one after another.\n",
        "\n",
        "Each method returns the object itself (usually self), so the next method can be called immediately on that return value."
      ],
      "metadata": {
        "id": "aOu6GmfeudkE"
      }
    },
    {
      "cell_type": "code",
      "source": [
        "class Message:\n",
        "    def __init__(self):\n",
        "        self.text = \"\"\n",
        "\n",
        "    def add_hello(self):\n",
        "        self.text += \"Hello \"\n",
        "        return self\n",
        "\n",
        "    def add_name(self, name):\n",
        "        self.text += name + \" \"\n",
        "        return self\n",
        "\n",
        "    def add_goodbye(self):\n",
        "        self.text += \"Goodbye!\"\n",
        "        return self\n",
        "\n",
        "    def show(self):\n",
        "        print(self.text)\n",
        "\n",
        "# Method chaining in action:\n",
        "msg = Message()\n",
        "msg.add_hello().add_name(\"Maulshree\").add_goodbye().show()\n"
      ],
      "metadata": {
        "id": "ae7bTr_0vEvv"
      },
      "execution_count": null,
      "outputs": []
    },
    {
      "cell_type": "markdown",
      "source": [
        "# **Ques 25- What is the purpose of the __call__ method in Python?**\n",
        "\n",
        "he __call__ method in Python makes an object behave like a function.\n",
        "- Function-like behavior for objects\n",
        "(e.g., you want an instance to behave like a function).\n",
        "\n",
        "- Useful in:\n",
        "     - Decorators\n",
        "\n",
        "     - Function wrappers\n",
        "\n",
        "     -  Callback systems\n",
        "\n",
        "     - Machine learning models\n",
        "\n",
        "\n",
        "\n"
      ],
      "metadata": {
        "id": "jONmDMKkvHp4"
      }
    },
    {
      "cell_type": "markdown",
      "source": [
        "# **PRACTICAL QUESTIONS**"
      ],
      "metadata": {
        "id": "TtQuuOaUxRZE"
      }
    },
    {
      "cell_type": "markdown",
      "source": [
        "**Ques 1. Create a parent class Animal with a method speak() that prints a generic message. Create a child class Dog\n",
        "that overrides the speak() method to print \"Bark!\"**"
      ],
      "metadata": {
        "id": "4wKJSPN7xZuB"
      }
    },
    {
      "cell_type": "code",
      "source": [
        "class Animal:\n",
        "  def speak(self):\n",
        "    print(\"the animal is speaking\")\n",
        "\n",
        "class Dog(Animal):\n",
        "  def speak(self):\n",
        "    print(\"bark\")"
      ],
      "metadata": {
        "id": "cs-H7u7sxm-Q"
      },
      "execution_count": 3,
      "outputs": []
    },
    {
      "cell_type": "code",
      "source": [
        "d = Dog()\n",
        "d.speak()"
      ],
      "metadata": {
        "colab": {
          "base_uri": "https://localhost:8080/"
        },
        "id": "qizlz3wo4tUc",
        "outputId": "5a5a038f-7d53-4fce-b52a-317f764093ec"
      },
      "execution_count": 4,
      "outputs": [
        {
          "output_type": "stream",
          "name": "stdout",
          "text": [
            "bark\n"
          ]
        }
      ]
    },
    {
      "cell_type": "markdown",
      "source": [
        "**Ques2- Write a program to create an abstract class Shape with a method area(). Derive classes Circle and Rectangle from it and implement the area() method in both**"
      ],
      "metadata": {
        "id": "9Dvpy_Ok42kv"
      }
    },
    {
      "cell_type": "code",
      "source": [
        "from abc import ABC , abstractmethod\n",
        "class Shape(ABC):\n",
        "  @abstractmethod\n",
        "  def area(self):\n",
        "    pass\n",
        "\n",
        "class Circle(Shape):\n",
        "  def __init__(self,radius):\n",
        "    self.radius = radius\n",
        "\n",
        "  def area(self):\n",
        "    return 22/7*self.radius**2\n",
        "\n",
        "class Rectangle(Shape):\n",
        "  def __init__(self,length,breadth):\n",
        "    self.length = length\n",
        "    self.breadth = breadth\n",
        "\n",
        "  def area(self):\n",
        "    return self.length*self.breadth"
      ],
      "metadata": {
        "id": "ebF9g-S75IGC"
      },
      "execution_count": 7,
      "outputs": []
    },
    {
      "cell_type": "code",
      "source": [
        "c= Circle(7)\n",
        "r =Rectangle(10,40)"
      ],
      "metadata": {
        "id": "p8sgRKY98sYf"
      },
      "execution_count": 14,
      "outputs": []
    },
    {
      "cell_type": "code",
      "source": [
        "print(f\"the area of circle is {c.area()}\")"
      ],
      "metadata": {
        "colab": {
          "base_uri": "https://localhost:8080/"
        },
        "id": "DTAbGuR39T9I",
        "outputId": "0e19e93a-48e9-469c-e413-dae73de57b3a"
      },
      "execution_count": 12,
      "outputs": [
        {
          "output_type": "stream",
          "name": "stdout",
          "text": [
            "the area of circle is 154.0\n"
          ]
        }
      ]
    },
    {
      "cell_type": "code",
      "source": [
        "print(f\"the area of rectangle is {r.area()}\")"
      ],
      "metadata": {
        "colab": {
          "base_uri": "https://localhost:8080/"
        },
        "id": "yKR5-VQy9oE7",
        "outputId": "e51b3c4f-c499-4b42-86ba-0984e1e73220"
      },
      "execution_count": 15,
      "outputs": [
        {
          "output_type": "stream",
          "name": "stdout",
          "text": [
            "the area of rectangle is 400\n"
          ]
        }
      ]
    },
    {
      "cell_type": "markdown",
      "source": [
        "**Ques3 -Implement a multi-level inheritance scenario where a class Vehicle has an attribute type. Derive a class Car\n",
        "and further derive a class ElectricCar that adds a battery attribute.?**"
      ],
      "metadata": {
        "id": "3VpYoy9P9tB5"
      }
    },
    {
      "cell_type": "code",
      "source": [
        "class Vehile:\n",
        "  def __init__(self,type):\n",
        "    self.type= type\n",
        "\n",
        "  def show(self):\n",
        "    print(f\"the type of vehile is {self.type}\")\n",
        "\n",
        "class Car(Vehile):\n",
        "  def __init__(self, type, brand):\n",
        "    super().__init__(type)\n",
        "    self.brand= brand\n",
        "\n",
        "  def show(self):\n",
        "    super().show()\n",
        "    print(f\"the brand of car is {self.brand}\")\n",
        "\n",
        "\n",
        "class Electrical_car(Car):\n",
        "  def __init__(self,type,brand,battery):\n",
        "    super().__init__(type,brand)\n",
        "    self.battery= battery\n",
        "\n",
        "  def show(self):\n",
        "    super().show()\n",
        "    print(f\"the battery of car is {self.battery}\")"
      ],
      "metadata": {
        "id": "eFf-dRzw95ir"
      },
      "execution_count": 23,
      "outputs": []
    },
    {
      "cell_type": "code",
      "source": [
        "e = Electrical_car(\"four wheeler\",\"toyota\",1000)"
      ],
      "metadata": {
        "id": "vqzMjABc_3iK"
      },
      "execution_count": 24,
      "outputs": []
    },
    {
      "cell_type": "code",
      "source": [
        "e.battery"
      ],
      "metadata": {
        "colab": {
          "base_uri": "https://localhost:8080/"
        },
        "id": "fZDc3TAkAqoG",
        "outputId": "0f03fabe-64f2-4cc8-9d32-3a25505d8aea"
      },
      "execution_count": 25,
      "outputs": [
        {
          "output_type": "execute_result",
          "data": {
            "text/plain": [
              "1000"
            ]
          },
          "metadata": {},
          "execution_count": 25
        }
      ]
    },
    {
      "cell_type": "code",
      "source": [
        "e.brand"
      ],
      "metadata": {
        "colab": {
          "base_uri": "https://localhost:8080/",
          "height": 35
        },
        "id": "p0T1s2cHAvcb",
        "outputId": "704534d9-1aad-4f01-af44-a0c1e9475f52"
      },
      "execution_count": 26,
      "outputs": [
        {
          "output_type": "execute_result",
          "data": {
            "text/plain": [
              "'toyota'"
            ],
            "application/vnd.google.colaboratory.intrinsic+json": {
              "type": "string"
            }
          },
          "metadata": {},
          "execution_count": 26
        }
      ]
    },
    {
      "cell_type": "markdown",
      "source": [
        " **Ques 4. Demonstrate polymorphism by creating a base class Bird with a method fly(). Create two derived classes\n",
        "Sparrow and Penguin that override the fly() method.**"
      ],
      "metadata": {
        "id": "kr0boN5KAybP"
      }
    },
    {
      "cell_type": "code",
      "source": [
        "class Bird:\n",
        "  def fly(self):\n",
        "    print(\"the bird is flying\")\n",
        "\n",
        "class Sparrow(Bird):\n",
        "  def fly(self):\n",
        "    print(\"the sparrow is flying\")\n",
        "\n",
        "class Penguin(Bird):\n",
        "  def fly(self):\n",
        "    print(\"the penguin is not flying\")"
      ],
      "metadata": {
        "id": "tBf8BVzICVlG"
      },
      "execution_count": 27,
      "outputs": []
    },
    {
      "cell_type": "code",
      "source": [
        "b1= Sparrow()\n",
        "b2 = Penguin()"
      ],
      "metadata": {
        "id": "3-lk5O3kEmlb"
      },
      "execution_count": 29,
      "outputs": []
    },
    {
      "cell_type": "code",
      "source": [
        "b1.fly()\n",
        "b2.fly()"
      ],
      "metadata": {
        "colab": {
          "base_uri": "https://localhost:8080/"
        },
        "id": "ghN9LS-WEtRT",
        "outputId": "eee11417-e7f2-43f2-b080-68450a04bf01"
      },
      "execution_count": 31,
      "outputs": [
        {
          "output_type": "stream",
          "name": "stdout",
          "text": [
            "the sparrow is flying\n",
            "the penguin is not flying\n"
          ]
        }
      ]
    },
    {
      "cell_type": "markdown",
      "source": [
        "**Ques5. Write a program to demonstrate encapsulation by creating a class BankAccount with private attributes\n",
        "balance and methods to deposit, withdraw, and check balance.**"
      ],
      "metadata": {
        "id": "MsZyt02ME3S_"
      }
    },
    {
      "cell_type": "code",
      "source": [
        "class Bank_account:\n",
        "  def __init__(self,initial_balance):\n",
        "    self.balance = initial_balance\n",
        "\n",
        "  def deposit(self,amount):\n",
        "    if amount>0:\n",
        "      self.balance += amount\n",
        "      print(f\"the balance after deposit is {self.balance}\")\n",
        "    else:\n",
        "      print(\"invalid amount\")\n",
        "\n",
        "  def withdraw(self,amount):\n",
        "    if 0<amount<self.balance:\n",
        "      self.balance -= amount\n",
        "      print(f\"the balance after withdraw is {self.balance}\")\n",
        "    else:\n",
        "      print(\"invalid amount\")\n",
        "\n",
        "  def check_balance(self):\n",
        "    print(f\"the balance is {self.balance}\")"
      ],
      "metadata": {
        "id": "Rre49d0oFA0q"
      },
      "execution_count": 39,
      "outputs": []
    },
    {
      "cell_type": "code",
      "source": [
        "b1 = Bank_account(1000)"
      ],
      "metadata": {
        "id": "7nds9KExFYhV"
      },
      "execution_count": 40,
      "outputs": []
    },
    {
      "cell_type": "code",
      "source": [
        "b1.deposit(500)"
      ],
      "metadata": {
        "colab": {
          "base_uri": "https://localhost:8080/"
        },
        "id": "30Gav8SWHW1i",
        "outputId": "6a89b805-66df-4fce-b0e7-5bd83162afe2"
      },
      "execution_count": 41,
      "outputs": [
        {
          "output_type": "stream",
          "name": "stdout",
          "text": [
            "the balance after deposit is 1500\n"
          ]
        }
      ]
    },
    {
      "cell_type": "code",
      "source": [
        "b1.withdraw(200)"
      ],
      "metadata": {
        "colab": {
          "base_uri": "https://localhost:8080/"
        },
        "id": "EZQG5uH4Haji",
        "outputId": "0d3dd01a-e533-460b-fe86-0236c2ba2b4a"
      },
      "execution_count": 42,
      "outputs": [
        {
          "output_type": "stream",
          "name": "stdout",
          "text": [
            "the balance after withdraw is 1300\n"
          ]
        }
      ]
    },
    {
      "cell_type": "code",
      "source": [
        "b1.check_balance()"
      ],
      "metadata": {
        "colab": {
          "base_uri": "https://localhost:8080/"
        },
        "id": "SDmNlfK1HayV",
        "outputId": "1a1fc5ea-44ca-47ef-c785-549d96d9653c"
      },
      "execution_count": 43,
      "outputs": [
        {
          "output_type": "stream",
          "name": "stdout",
          "text": [
            "the balance is 1300\n"
          ]
        }
      ]
    },
    {
      "cell_type": "markdown",
      "source": [
        "**Ques6. Demonstrate runtime polymorphism using a method play() in a base class Instrument. Derive classes Guitar\n",
        "and Piano that implement their own version of play().**"
      ],
      "metadata": {
        "id": "0nc68vwOHjiD"
      }
    },
    {
      "cell_type": "code",
      "source": [
        "class Instrument:\n",
        "  def play(self):\n",
        "    print(\"playing some instrument\")\n",
        "\n",
        "class Guitar(Instrument):\n",
        "  def play(self):\n",
        "    print(\"playing guitar\")\n",
        "\n",
        "class Piano(Instrument):\n",
        "  def play(self):\n",
        "    print(\"playing piano\")"
      ],
      "metadata": {
        "id": "culDHYxdHpbo"
      },
      "execution_count": 45,
      "outputs": []
    },
    {
      "cell_type": "code",
      "source": [
        "i1 = Guitar()\n",
        "i2 = Piano()"
      ],
      "metadata": {
        "id": "FlcVIrq3JEvI"
      },
      "execution_count": 46,
      "outputs": []
    },
    {
      "cell_type": "code",
      "source": [
        "i1.play()"
      ],
      "metadata": {
        "colab": {
          "base_uri": "https://localhost:8080/"
        },
        "id": "1pcqyBgQJMBW",
        "outputId": "fb349e78-1fbc-4853-9dc1-b07ce245f0c9"
      },
      "execution_count": 50,
      "outputs": [
        {
          "output_type": "stream",
          "name": "stdout",
          "text": [
            "playing guitar\n"
          ]
        }
      ]
    },
    {
      "cell_type": "markdown",
      "source": [
        "**Ques7-Create a class MathOperations with a class method add_numbers() to add two numbers and a static\n",
        "method subtract_numbers() to subtract two numbers.**"
      ],
      "metadata": {
        "id": "rTZKaRRlJ6RM"
      }
    },
    {
      "cell_type": "code",
      "source": [
        "class Mathoperations:\n",
        "  @classmethod\n",
        "  def add_numbers(cls,a,b):\n",
        "    return a+b\n",
        "\n",
        "  @staticmethod\n",
        "  def subtract_numbers(a,b):\n",
        "    return a-b\n"
      ],
      "metadata": {
        "id": "NMi7fd-QKF0C"
      },
      "execution_count": 51,
      "outputs": []
    },
    {
      "cell_type": "code",
      "source": [
        "Mathoperations.add_numbers(10,60)"
      ],
      "metadata": {
        "colab": {
          "base_uri": "https://localhost:8080/"
        },
        "id": "rf6PUFE2MOtZ",
        "outputId": "56d4ae72-8139-47c5-8290-9e4b5027e7cd"
      },
      "execution_count": 52,
      "outputs": [
        {
          "output_type": "execute_result",
          "data": {
            "text/plain": [
              "70"
            ]
          },
          "metadata": {},
          "execution_count": 52
        }
      ]
    },
    {
      "cell_type": "code",
      "source": [
        "Mathoperations.subtract_numbers(10,60)"
      ],
      "metadata": {
        "colab": {
          "base_uri": "https://localhost:8080/"
        },
        "id": "rPdrzCdDMfl7",
        "outputId": "703c0ebd-4da8-498e-a1e2-08f2f5231662"
      },
      "execution_count": 53,
      "outputs": [
        {
          "output_type": "execute_result",
          "data": {
            "text/plain": [
              "-50"
            ]
          },
          "metadata": {},
          "execution_count": 53
        }
      ]
    },
    {
      "cell_type": "markdown",
      "source": [
        "**Ques8. Implement a class Person with a class method to count the total number of persons created.**"
      ],
      "metadata": {
        "id": "riI7Nik_Mkgz"
      }
    },
    {
      "cell_type": "code",
      "source": [
        "class Person:\n",
        "  count = 0\n",
        "\n",
        "  def __init__(self,name):\n",
        "    self.name =name\n",
        "    Person.count +=1\n",
        "\n",
        "  @classmethod\n",
        "  def total_persons(cls):\n",
        "    print(f\"the total number of persons are {cls.count}\")"
      ],
      "metadata": {
        "id": "RNdRy1PQND9l"
      },
      "execution_count": 55,
      "outputs": []
    },
    {
      "cell_type": "code",
      "source": [
        "p1 = Person(\"moli\")\n",
        "p2 = Person(\"max\")\n",
        "p3 = Person(\"maulshree\")"
      ],
      "metadata": {
        "id": "fFXDExz5Mltu"
      },
      "execution_count": 56,
      "outputs": []
    },
    {
      "cell_type": "code",
      "source": [
        "Person.total_persons()"
      ],
      "metadata": {
        "colab": {
          "base_uri": "https://localhost:8080/"
        },
        "id": "K5RS68VnMmA0",
        "outputId": "d1f7e184-c9e4-4022-c274-23c4ed305000"
      },
      "execution_count": 57,
      "outputs": [
        {
          "output_type": "stream",
          "name": "stdout",
          "text": [
            "the total number of persons are 3\n"
          ]
        }
      ]
    },
    {
      "cell_type": "markdown",
      "source": [
        "**Ques 9. Write a class Fraction with attributes numerator and denominator. Override the str method to display the\n",
        "fraction as \"numerator/denominator\"**"
      ],
      "metadata": {
        "id": "V32L3bI5MmS1"
      }
    },
    {
      "cell_type": "code",
      "source": [
        "class Fraction:\n",
        "    def __init__(self, numerator, denominator):\n",
        "        self.numerator = numerator\n",
        "        self.denominator = denominator\n",
        "\n",
        "    def __str__(self):\n",
        "      return f\"{self.numerator}/{self.denominator}\""
      ],
      "metadata": {
        "id": "xEAZZ5VqPe3A"
      },
      "execution_count": 62,
      "outputs": []
    },
    {
      "cell_type": "code",
      "source": [
        "f1 = Fraction(10,20)\n",
        "print(f1)"
      ],
      "metadata": {
        "colab": {
          "base_uri": "https://localhost:8080/"
        },
        "id": "FO6algr0PwIB",
        "outputId": "1f4dfbe8-1064-491f-c6c5-dbabfec35041"
      },
      "execution_count": 64,
      "outputs": [
        {
          "output_type": "stream",
          "name": "stdout",
          "text": [
            "10/20\n"
          ]
        }
      ]
    },
    {
      "cell_type": "markdown",
      "source": [
        "**Ques 10. Demonstrate operator overloading by creating a class Vector and overriding the add method to add two vectors.**"
      ],
      "metadata": {
        "id": "JGnEKVF-MmiV"
      }
    },
    {
      "cell_type": "code",
      "source": [
        "class Vector:\n",
        "  def __init__(self,x,y):\n",
        "    self.x=x\n",
        "    self.y=y\n",
        "\n",
        "  def __add__(self,other):\n",
        "    return Vector(self.x+other.x,self.y+other.y)\n",
        "\n",
        "  def __str__(self):\n",
        "    return f\"({self.x},{self.y})\""
      ],
      "metadata": {
        "id": "da4mV4_tX12R"
      },
      "execution_count": 65,
      "outputs": []
    },
    {
      "cell_type": "code",
      "source": [
        "v1 = Vector(8,9)\n",
        "v2 = Vector(4,6)"
      ],
      "metadata": {
        "id": "nTIEFfwEY2Ai"
      },
      "execution_count": 66,
      "outputs": []
    },
    {
      "cell_type": "code",
      "source": [
        "print(v1.__add__(v2))"
      ],
      "metadata": {
        "colab": {
          "base_uri": "https://localhost:8080/"
        },
        "id": "n0gW9Z_mY-xM",
        "outputId": "74fe3a9d-9e01-4455-dc36-2fc618faa6dc"
      },
      "execution_count": 70,
      "outputs": [
        {
          "output_type": "stream",
          "name": "stdout",
          "text": [
            "(12,15)\n"
          ]
        }
      ]
    },
    {
      "cell_type": "markdown",
      "source": [
        "**Ques 11. Create a class Person with attributes name and age. Add a method greet() that prints \"Hello, my name is\n",
        "{name} and I am {age} years old.\"**"
      ],
      "metadata": {
        "id": "YEQROkmJZXT2"
      }
    },
    {
      "cell_type": "code",
      "source": [
        "class Person:\n",
        "  def __init__(self,name,age):\n",
        "    self.name= name\n",
        "    self.age= age\n",
        "\n",
        "\n",
        "  def greet(self):\n",
        "    print(f\"hello,my name is {self.name} and i am {self.age} years old\")"
      ],
      "metadata": {
        "id": "w775xSLWZjnk"
      },
      "execution_count": 76,
      "outputs": []
    },
    {
      "cell_type": "code",
      "source": [
        "p1 = Person(\"maulshree\",20)"
      ],
      "metadata": {
        "id": "7hp-1HR1aVR5"
      },
      "execution_count": 78,
      "outputs": []
    },
    {
      "cell_type": "code",
      "source": [
        "p1.greet()"
      ],
      "metadata": {
        "colab": {
          "base_uri": "https://localhost:8080/"
        },
        "id": "6OZLrT4haVB8",
        "outputId": "df26602c-2ed4-468b-9592-f1bec52e353a"
      },
      "execution_count": 79,
      "outputs": [
        {
          "output_type": "stream",
          "name": "stdout",
          "text": [
            "hello,my name is maulshree and i am 20 years old\n"
          ]
        }
      ]
    },
    {
      "cell_type": "markdown",
      "source": [
        "**Ques 12. Implement a class Student with attributes name and grades. Create a method average_grade() to compute\n",
        "the average of the grades.**"
      ],
      "metadata": {
        "id": "pSDt4QSeaskx"
      }
    },
    {
      "cell_type": "code",
      "source": [
        "class Student:\n",
        "  def __init__(self,name,grade):\n",
        "    self.name= name\n",
        "    self.grade= grade\n",
        "\n",
        "  def average_grade(self):\n",
        "    return sum(self.grade)/len(self.grade)"
      ],
      "metadata": {
        "id": "LPcpB2zoa2XA"
      },
      "execution_count": 80,
      "outputs": []
    },
    {
      "cell_type": "code",
      "source": [
        "s1 = Student(\"Maulshree\", [85, 78, 92])\n",
        "print(f\"{s1.name}'s average grade is: {s1.average_grade()}\")"
      ],
      "metadata": {
        "colab": {
          "base_uri": "https://localhost:8080/"
        },
        "id": "_PllXnsJbmWh",
        "outputId": "deaa9fc4-fda6-4001-ed74-72ab6d18fb62"
      },
      "execution_count": 82,
      "outputs": [
        {
          "output_type": "stream",
          "name": "stdout",
          "text": [
            "Maulshree's average grade is: 85.0\n"
          ]
        }
      ]
    },
    {
      "cell_type": "markdown",
      "source": [
        "**Ques13. Create a class Rectangle with methods set_dimensions() to set the dimensions and area() to calculate the\n",
        "area.**"
      ],
      "metadata": {
        "id": "8JwiK27Mb8yg"
      }
    },
    {
      "cell_type": "code",
      "source": [
        "class Rectangle:\n",
        "  def __init__(self):\n",
        "    self.length = 0\n",
        "    self.breadth = 0\n",
        "\n",
        "  def set_dimensions(self,length,breadth):\n",
        "    self.length = length\n",
        "    self.breadth = breadth\n",
        "\n",
        "  def area(self):\n",
        "    print(f\"area of rectangle is {self.length*self.breadth}\")"
      ],
      "metadata": {
        "id": "CR8T2SuAcEnj"
      },
      "execution_count": 93,
      "outputs": []
    },
    {
      "cell_type": "code",
      "source": [
        "r1 = Rectangle()"
      ],
      "metadata": {
        "id": "25Eu6FiGcaeE"
      },
      "execution_count": 95,
      "outputs": []
    },
    {
      "cell_type": "code",
      "source": [
        "r1.set_dimensions(10,20)"
      ],
      "metadata": {
        "id": "aDW2q8-Cdl8Y"
      },
      "execution_count": 96,
      "outputs": []
    },
    {
      "cell_type": "code",
      "source": [
        "r1.area()"
      ],
      "metadata": {
        "colab": {
          "base_uri": "https://localhost:8080/"
        },
        "id": "g3XkfriochOy",
        "outputId": "70efa2df-f1ef-4765-ddd8-e55ca67e2966"
      },
      "execution_count": 97,
      "outputs": [
        {
          "output_type": "stream",
          "name": "stdout",
          "text": [
            "area of rectangle is 200\n"
          ]
        }
      ]
    },
    {
      "cell_type": "markdown",
      "source": [
        "**Ques 14. Create a class Employee with a method calculate_salary() that computes the salary based on hours worked and hourly rate. Create a derived class Manager that adds a bonus to the salary**"
      ],
      "metadata": {
        "id": "nHNJ5cp_dqE0"
      }
    },
    {
      "cell_type": "code",
      "source": [
        "class Employee:\n",
        "  def __init__(self,name,hourly_rate,hours_worked):\n",
        "    self.name = name\n",
        "    self.hourly_rate = hourly_rate\n",
        "    self.hours_worked = hours_worked\n",
        "\n",
        "  def calculate_salary(self):\n",
        "    return self.hours_worked*self.hourly_rate\n",
        "\n",
        "class Manager(Employee):\n",
        "  def __init__(self,name,hourly_rate,hours_worked,bonus):\n",
        "      super().__init__(name,hourly_rate,hours_worked)\n",
        "      self.bonus = bonus\n",
        "\n",
        "  def calculate_salary(self):\n",
        "    salary = super().calculate_salary()\n",
        "    return salary + self.bonus"
      ],
      "metadata": {
        "id": "NoV3X8Lydz2H"
      },
      "execution_count": 103,
      "outputs": []
    },
    {
      "cell_type": "code",
      "source": [
        "e1 = Employee(\"jack\",40,500)"
      ],
      "metadata": {
        "id": "SLS3Jswk2-84"
      },
      "execution_count": 104,
      "outputs": []
    },
    {
      "cell_type": "code",
      "source": [
        "e1.calculate_salary()"
      ],
      "metadata": {
        "colab": {
          "base_uri": "https://localhost:8080/"
        },
        "id": "WxgOC5_J3NPU",
        "outputId": "7121d807-03d7-4a15-deb0-c4c91a6b1cd0"
      },
      "execution_count": 105,
      "outputs": [
        {
          "output_type": "execute_result",
          "data": {
            "text/plain": [
              "20000"
            ]
          },
          "metadata": {},
          "execution_count": 105
        }
      ]
    },
    {
      "cell_type": "code",
      "source": [
        "m1 = Manager(\"mohit\",35,400,5000)"
      ],
      "metadata": {
        "id": "umRyXoXS3wex"
      },
      "execution_count": 107,
      "outputs": []
    },
    {
      "cell_type": "code",
      "source": [
        "m1.calculate_salary()"
      ],
      "metadata": {
        "colab": {
          "base_uri": "https://localhost:8080/"
        },
        "id": "xVupU8AU4Evu",
        "outputId": "515e47eb-2c7b-4d6b-dec3-ecb90273e6ad"
      },
      "execution_count": 108,
      "outputs": [
        {
          "output_type": "execute_result",
          "data": {
            "text/plain": [
              "19000"
            ]
          },
          "metadata": {},
          "execution_count": 108
        }
      ]
    },
    {
      "cell_type": "markdown",
      "source": [
        "**Ques15. Create a class Product with attributes name, price, and quantity. Implement a method total_price() that\n",
        "calculates the total price of the product**"
      ],
      "metadata": {
        "id": "rRXTjdvm5QZk"
      }
    },
    {
      "cell_type": "code",
      "source": [
        "class Product:\n",
        "  def __init__(self,name,price,quantity):\n",
        "    self.name = name\n",
        "    self.price = price\n",
        "    self.quantity= quantity\n",
        "\n",
        "  def total_price(self):\n",
        "    return self.price*self.quantity"
      ],
      "metadata": {
        "id": "kgB1oMbe5Wq8"
      },
      "execution_count": 112,
      "outputs": []
    },
    {
      "cell_type": "code",
      "source": [
        "p1 = Product(\"pen\",10,100)\n",
        "p1.total_price()"
      ],
      "metadata": {
        "colab": {
          "base_uri": "https://localhost:8080/"
        },
        "id": "cWgHj04b5vGp",
        "outputId": "0b70b2fc-1446-47e8-93eb-5fa3f554fc86"
      },
      "execution_count": 114,
      "outputs": [
        {
          "output_type": "execute_result",
          "data": {
            "text/plain": [
              "1000"
            ]
          },
          "metadata": {},
          "execution_count": 114
        }
      ]
    },
    {
      "cell_type": "code",
      "source": [
        "p2 = Product(\"pasta\",5,89)\n",
        "p2.total_price()"
      ],
      "metadata": {
        "colab": {
          "base_uri": "https://localhost:8080/"
        },
        "id": "ShZWvn3f57Ou",
        "outputId": "a8403e8b-e4db-4074-caf3-34020cf2c4d4"
      },
      "execution_count": 115,
      "outputs": [
        {
          "output_type": "execute_result",
          "data": {
            "text/plain": [
              "445"
            ]
          },
          "metadata": {},
          "execution_count": 115
        }
      ]
    },
    {
      "cell_type": "markdown",
      "source": [
        "**Ques 16. Create a class Animal with an abstract method sound(). Create two derived classes Cow and Sheep that\n",
        "implement the sound() method.**"
      ],
      "metadata": {
        "id": "usCE5ISW6Dl-"
      }
    },
    {
      "cell_type": "code",
      "source": [
        "from abc import ABC ,abstractmethod\n",
        "class Animal(ABC):\n",
        "  @abstractmethod\n",
        "  def sound(self):\n",
        "    pass\n",
        "\n",
        "class Cow(Animal):\n",
        "  def sound(self):\n",
        "    print(\"moo\")\n",
        "\n",
        "class Sheep(Animal):\n",
        "  def sound(self):\n",
        "    print(\"baa\")\n",
        "\n",
        "c = Cow()\n",
        "c.sound()\n",
        "\n",
        "s = Sheep()\n",
        "s.sound()"
      ],
      "metadata": {
        "colab": {
          "base_uri": "https://localhost:8080/"
        },
        "id": "RDQp41Hv6JHc",
        "outputId": "bb5c0084-e5a3-4704-c60a-2ad207570d54"
      },
      "execution_count": 116,
      "outputs": [
        {
          "output_type": "stream",
          "name": "stdout",
          "text": [
            "moo\n",
            "baa\n"
          ]
        }
      ]
    },
    {
      "cell_type": "markdown",
      "source": [
        "**Ques17. Create a class Book with attributes title, author, and year_published. Add a method get_book_info() that\n",
        "returns a formatted string with the book's details.**"
      ],
      "metadata": {
        "id": "9YzROSQ-6wmK"
      }
    },
    {
      "cell_type": "code",
      "source": [
        "class Book:\n",
        "  def __init__(self,title,author,year_published):\n",
        "    self.title = title\n",
        "    self.author = author\n",
        "    self.year_published = year_published\n",
        "\n",
        "  def get_book_info(self):\n",
        "    return f\" {self.title} by {self.author} Published in {self.year_published}\""
      ],
      "metadata": {
        "id": "EQeqOiQp65N2"
      },
      "execution_count": 120,
      "outputs": []
    },
    {
      "cell_type": "code",
      "source": [
        "b1 = Book(\"The Alchemist\", \"Paulo Coelho\", 1988)\n",
        "print(b1.get_book_info())"
      ],
      "metadata": {
        "colab": {
          "base_uri": "https://localhost:8080/"
        },
        "id": "yo85xR4W7VYl",
        "outputId": "2b5b98b3-598f-4f83-93c6-ab35d1a41f5f"
      },
      "execution_count": 121,
      "outputs": [
        {
          "output_type": "stream",
          "name": "stdout",
          "text": [
            " The Alchemist by Paulo Coelho Published in 1988\n"
          ]
        }
      ]
    },
    {
      "cell_type": "markdown",
      "source": [
        "**Ques 18. Create a class House with attributes address and price. Create a derived class Mansion that adds an\n",
        "attribute number_of_rooms.**"
      ],
      "metadata": {
        "id": "1Ejt-csT7zCp"
      }
    },
    {
      "cell_type": "code",
      "source": [
        "class House:\n",
        "  def __init__(self,address,price):\n",
        "    self.address = address\n",
        "    self.price = price\n",
        "\n",
        "class Mansion(House):\n",
        "  def __init__(self,address,price,number_of_rooms):\n",
        "    super().__init__(address,price)\n",
        "    self.number_of_rooms = number_of_rooms"
      ],
      "metadata": {
        "id": "ydcnMpmd7ywt"
      },
      "execution_count": 125,
      "outputs": []
    },
    {
      "cell_type": "code",
      "source": [
        "h1 = House(\"123 Main St\", 250000)\n",
        "print(f\"Address: {h1.address}, Price: ${h1.price}\")"
      ],
      "metadata": {
        "colab": {
          "base_uri": "https://localhost:8080/"
        },
        "id": "5Iqvwy4_8QLL",
        "outputId": "7c446b1c-3a60-430a-ac48-3ae3449afa0a"
      },
      "execution_count": 123,
      "outputs": [
        {
          "output_type": "stream",
          "name": "stdout",
          "text": [
            "Address: 123 Main St, Price: $250000\n"
          ]
        }
      ]
    },
    {
      "cell_type": "code",
      "source": [
        "m1 = Mansion(\"456 Elm St\", 500000, 8)\n",
        "print(f\"Address: {m1.address}, Price: ${m1.price}, Number of Rooms: {m1.number_of_rooms}\")"
      ],
      "metadata": {
        "colab": {
          "base_uri": "https://localhost:8080/"
        },
        "id": "TB1SlWIo8Xqr",
        "outputId": "f73c1ac9-c42f-478c-8b80-3361e4689eca"
      },
      "execution_count": 126,
      "outputs": [
        {
          "output_type": "stream",
          "name": "stdout",
          "text": [
            "Address: 456 Elm St, Price: $500000, Number of Rooms: 8\n"
          ]
        }
      ]
    },
    {
      "cell_type": "code",
      "source": [
        "m1.number_of_rooms"
      ],
      "metadata": {
        "colab": {
          "base_uri": "https://localhost:8080/"
        },
        "id": "fy89tRy68rP3",
        "outputId": "72f3a1b6-455d-4cc8-bf5b-41d96e71b1c3"
      },
      "execution_count": 128,
      "outputs": [
        {
          "output_type": "execute_result",
          "data": {
            "text/plain": [
              "8"
            ]
          },
          "metadata": {},
          "execution_count": 128
        }
      ]
    }
  ]
}